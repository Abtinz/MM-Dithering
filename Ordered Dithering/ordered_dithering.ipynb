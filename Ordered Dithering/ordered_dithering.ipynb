{
 "cells": [
  {
   "cell_type": "code",
   "execution_count": 2,
   "id": "79cac8e2",
   "metadata": {},
   "outputs": [],
   "source": [
    "import matplotlib.pyplot as plt #image demonstraiton\n",
    "from matplotlib import image as img_reader #image reading \n",
    "from PIL import Image as img_saver #image saving\n",
    "\n",
    "import numpy as np"
   ]
  },
  {
   "cell_type": "code",
   "execution_count": 3,
   "id": "62138c53",
   "metadata": {},
   "outputs": [],
   "source": [
    "def ploting_images(image , title) :\n",
    "    plt.imshow(image)\n",
    "    plt.title(title)\n",
    "    plt.show()\n",
    "    type(image)"
   ]
  },
  {
   "cell_type": "code",
   "execution_count": 5,
   "id": "5adfaf09",
   "metadata": {},
   "outputs": [],
   "source": [
    "def saving_images(image , src) :\n",
    "     img_saver.fromarray(img_gray).convert('L').save(src)"
   ]
  }
 ],
 "metadata": {
  "kernelspec": {
   "display_name": "Python 3 (ipykernel)",
   "language": "python",
   "name": "python3"
  },
  "language_info": {
   "codemirror_mode": {
    "name": "ipython",
    "version": 3
   },
   "file_extension": ".py",
   "mimetype": "text/x-python",
   "name": "python",
   "nbconvert_exporter": "python",
   "pygments_lexer": "ipython3",
   "version": "3.9.7"
  }
 },
 "nbformat": 4,
 "nbformat_minor": 5
}
